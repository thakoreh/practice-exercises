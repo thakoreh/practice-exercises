{
 "cells": [
  {
   "cell_type": "code",
   "execution_count": 7,
   "metadata": {},
   "outputs": [],
   "source": [
    "import json"
   ]
  },
  {
   "cell_type": "code",
   "execution_count": 9,
   "metadata": {},
   "outputs": [
    {
     "name": "stdout",
     "output_type": "stream",
     "text": [
      "[{'ID': 1, 'Address': '3666 21st St', 'City': 'San Francisco', 'State': 'CA 94114', 'Country': 'USA', 'Name': 'Madeira', 'Employees': 8}, {'ID': 2, 'Address': '735 Dolores St', 'City': 'San Francisco', 'State': 'CA 94119', 'Country': 'USA', 'Name': 'Bready Shop', 'Employees': 15}, {'ID': 3, 'Address': '332 Hill St', 'City': 'San Francisco', 'State': 'California 94114', 'Country': 'USA', 'Name': 'Super River', 'Employees': 25}, {'ID': 4, 'Address': '3995 23rd St', 'City': 'San Francisco', 'State': 'CA 94114', 'Country': 'USA', 'Name': \"Ben's Shop\", 'Employees': 10}, {'ID': 5, 'Address': '1056 Sanchez St', 'City': 'San Francisco', 'State': 'California', 'Country': 'USA', 'Name': 'Sanchez', 'Employees': 12}, {'ID': 6, 'Address': '551 Alvarado St', 'City': 'San Francisco', 'State': 'CA 94114', 'Country': 'USA', 'Name': 'Richvalley', 'Employees': 20}]\n"
     ]
    }
   ],
   "source": [
    "data=json.load(open(\"C:\\\\Python Projects\\\\Practice\\\\supermarkets.json\"))\n",
    "print(data)"
   ]
  }
 ],
 "metadata": {
  "kernelspec": {
   "display_name": "Python 3",
   "language": "python",
   "name": "python3"
  },
  "language_info": {
   "codemirror_mode": {
    "name": "ipython",
    "version": 3
   },
   "file_extension": ".py",
   "mimetype": "text/x-python",
   "name": "python",
   "nbconvert_exporter": "python",
   "pygments_lexer": "ipython3",
   "version": "3.6.4"
  }
 },
 "nbformat": 4,
 "nbformat_minor": 2
}
